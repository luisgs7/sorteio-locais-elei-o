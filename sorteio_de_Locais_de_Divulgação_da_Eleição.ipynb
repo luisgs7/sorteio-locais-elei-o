{
  "nbformat": 4,
  "nbformat_minor": 0,
  "metadata": {
    "colab": {
      "name": "sorteio de Locais de Divulgação da Eleição.ipynb",
      "provenance": [],
      "collapsed_sections": [],
      "include_colab_link": true
    },
    "kernelspec": {
      "name": "python3",
      "display_name": "Python 3"
    },
    "language_info": {
      "name": "python"
    }
  },
  "cells": [
    {
      "cell_type": "markdown",
      "metadata": {
        "id": "view-in-github",
        "colab_type": "text"
      },
      "source": [
        "<a href=\"https://colab.research.google.com/github/luisgs7/sorteio-locais-eleicao/blob/main/sorteio_de_Locais_de_Divulga%C3%A7%C3%A3o_da_Elei%C3%A7%C3%A3o.ipynb\" target=\"_parent\"><img src=\"https://colab.research.google.com/assets/colab-badge.svg\" alt=\"Open In Colab\"/></a>"
      ]
    },
    {
      "cell_type": "markdown",
      "metadata": {
        "id": "TfVYM-eN8jYW"
      },
      "source": [
        "# Algoritmo para sortear o local de divulgação dos candidatos a reitor da Eleição de 2021\n",
        "\n",
        "## Para executar o sorteio, clique no simbolo de play do lado esquerdo da célula abaixo."
      ]
    },
    {
      "cell_type": "code",
      "metadata": {
        "id": "ymQiFj-1tBAq"
      },
      "source": [
        "# biblioteca que gera números aleatorios\n",
        "from random import randint\n",
        "\n",
        "# deinifição dos dados a serem sorteados\n",
        "locais = ['PAREDE DO MURAL DE PORTARIAS - LADO DIREITO', 'PAREDE DO MURAL DE PORTARIAS - LADO ESQUERDO']\n",
        "candidatos = ['PAULO HERNANDES GONÇALVES DA SILVA', 'ANTONIO DA LUZ JUNIOR             ']\n",
        "\n",
        "# sorteio de números aleatorios, de 0 a 1\n",
        "def sorteio_numero():\n",
        "  return randint(0, 1)\n",
        "\n",
        "# sorteador de locais e seus respecitivos membros\n",
        "def sorteador_locais():\n",
        "  # sorteio do local do candidato 1, que é escolhido de forma aleatoria\n",
        "  candidato1 = candidatos[sorteio_numero()]\n",
        "  local1 = locais[sorteio_numero()]\n",
        "\n",
        "  # Com base no sorteio do primeiro candidato, é atribuído o outro local para o segundo candidato\n",
        "  if candidato1 == candidatos[1]:\n",
        "    candidato2 = candidatos[0]\n",
        "  else:\n",
        "    candidato2 = candidatos[1]\n",
        "  \n",
        "  if local1 == locais[1]:\n",
        "    local2 = locais[0]\n",
        "  else:\n",
        "    local2 = locais[1]\n",
        "\n",
        "  # Impressão na tela do resultado\n",
        "  print(\"RESULTADO DO SORTEIO\\n\")\n",
        "  print(f'#01 CANDIDATO: {candidato1} -> LOCAL: {local1}\\n')\n",
        "  print(f'#02 CANDIDATO: {candidato2} -> LOCAL: {local2}')\n",
        "    \n",
        "# É importante destacar que candidado 1 e 2 são escolhidos de forma aleatoria, \n",
        "# e a partir do local sorteado para o candidato 1 é atribuído o outro local para o candidato 2\n",
        "sorteador_locais()\n"
      ],
      "execution_count": null,
      "outputs": []
    }
  ]
}